{
 "cells": [
  {
   "cell_type": "code",
   "execution_count": 1,
   "id": "79ff2fbc",
   "metadata": {},
   "outputs": [],
   "source": [
    "# Algebra Linear\n",
    "import \\\n",
    "    numpy as np  # IMPORTANDO A BIBLIOTECA NUMPY, QUE ESTÁ RELACIONADA AQUI À ALGEBRA LINEAR (Numpy: Python Numérico, está relacionada à realização de operações em arrays multidimensionais, denominado de ndarray na biblioteca)\n"
   ]
  },
  {
   "cell_type": "code",
   "execution_count": 2,
   "id": "0e289073",
   "metadata": {},
   "outputs": [],
   "source": [
    "# Processamento/manipulação dos dados\n",
    "import \\\n",
    "    pandas as pd  # IMPORTANDO A BIBLIOTECA PANDAS, QUE ESTÁ RELACIONADA AQUI AO PROCESSAMENTO E MANIPULAÇÃO DOS DADOS"
   ]
  },
  {
   "cell_type": "code",
   "execution_count": 3,
   "id": "32774597",
   "metadata": {},
   "outputs": [],
   "source": [
    "# Visualização dos dados\n",
    "import \\\n",
    "    seaborn as sns  # IMPORTANDO A BIBLIOTECA SEABORN, QUE ESTÁ RELACIONADA AQUI A VISUALIZAÇÃO DOS DADOS (Seaborn: É uma biblioteca do Python usada para traçar gráficos com a ajuda de Matplotlib, Pandas e Numpy -OUTRAS BIBLIOTECAS- ela foi construída \"baseada\" na Matplotlib e é considerada um superconjunto da biblioteca Matplotlib -AJUDA NA VISUALIZAÇÃO DE DADOS UNIVARIADOS E BIVARIADOS-)\n",
    "\n",
    "# %matplotlib inline # # ESSE COMANDO É UTILIZADO AQUI, ESPECIFICAMENTE PARA A BIBLIOTECA MATPLOTLIB (Matplotlib: Biblioteca para visualização de dados em Python. Apresenta uma API orientada a objetos que permite a criação de gráficos em 2D de uma forma simples e com poucos comandos) SERVE PARA PLOTAR (DESENHAR) OS GRÁFICOS ESTÁTICOS LOGO ABAIXO DA CÉLULA (Existem outras configurações do %matplotlib que podem mostrar os gráficos em outras abas ou gráficos dinâmicos)\n",
    "\n",
    "from matplotlib import \\\n",
    "    pyplot as plt  # AQUI ESTAMOS TRAZENDO DA BIBLIOTECA MATPLOTLIB, O PYPLOT (É um conjunto de funções que está disponível na biblioteca matplotlib, o pyplot permite que você crie uma figura, uma área para exibir o gráfico na figura, desenhe linhas na área do gráfico, decore o gráfico com rotulos e entre outras coisas \"\"\" CADA FUNÇÃO DO PYPLOT MUDA ALGUMA COISA NA FIGURA \"\"\")\n",
    "\n",
    "from matplotlib import \\\n",
    "    style  # AQUI ESTAMOS TRAZENDO DA BIBLIOTECA MATPLOTLIB, O CONJUNTO DE FUNÇÕES STYLE (É um conjunto de funções que está relacionado a adição de estilos ao gráfico / apresentação de dados) \"\"\" PODEMOS TRAZER AQUI TAMBÉM O plt.style.use() DEPOIS DA CLAUSULA DE IMPORTAÇÃO -plt só é necessario caso não esteja utilizando o from- \"\"\"\n",
    "\n"
   ]
  },
  {
   "cell_type": "code",
   "execution_count": 4,
   "id": "f5a5038f",
   "metadata": {},
   "outputs": [],
   "source": [
    "# Algoritimos Machine Learning\n",
    "from sklearn import linear_model  # AQUI ESTAMOS TRAZENDO DA BIBLIOTECA SCIKIT-LEARN O CONJUNTO DE FUNÇÕES linear_model\n",
    "\n",
    "from sklearn.linear_model import \\\n",
    "    LogisticRegression  # AQUI ESTAMOS TRAZENDO DA BIBLIOTECA SCIKIT-LEARN E DO CONJUNTO DE FUNÇÕES linear_model, A FUNÇÃO ASSOCIADA À LINEAR MODEL, LogisticRegression (É uma função denominada \"Classificador de regressão logistica\", entendemos a regressão logistica como um modelo estatistico usado para determinar a probabilidade de um evento acontecer - mostra a relação entre os recursos e calcula a probabilidade de um determinado resultado -)\n",
    "\n",
    "from sklearn.ensemble import RandomForestClassifier\n",
    "\n",
    "from sklearn.linear_model import \\\n",
    "    Perceptron  # AQUI ESTAMOS TRAZENDO DA BIBLIOTECA SCIKIT-LEARN E DO CONJUNTO DE FUNÇÕES linear_model, A FUNÇÃO ASSOCIADA À LINEAR MODEL, Perceptron (É um tipo de rede neural de classificação simples, ou seja, é  um algoritmo que torna possível separar elementos de grupos que tenham caracteristicas diferentes e com base nessa separação, prever a que grupo irá pertencer tal elemento, ou seja, é um algoritmo que faz a separação de elementos com caracteristicas diferentes e organiza eles em seus respectivos grupos) / SERÁ UTILIZADO PARA SEPARAR CADA ELEMENTO RELACIONADO AO TITANIC, TAIS COMO NOME, IDADE, SEXO E ENTRE OUTROS\n",
    "\n",
    "from sklearn.linear_model import \\\n",
    "    SGDClassifier  # AQUI, ESTAMOS TRAZENDO DA BIBLIOTECA SCIKIT-LEARN E DO CONJUNTO DE FUNÇÕES linear_model, A FUNÇÃO ASSOCIADA A LINEAR MODEL SGDClassifier (É um classificador linear, que é uma das ferramentas mais simples que podem ser utilizadas para classificar as amostras de um conjunto de dados)\n",
    "\n",
    "from sklearn.tree import \\\n",
    "    DecisionTreeClassifier  # AQUI ESTAMOS TRAZENDO DA BIBLIOTECA SCIKIT-LEARN E DO CONJUNTO DE FUNÇÕES tree (Tree : conhecida também como arvore de decisão, internamente é criada uma representação gráfica das alternativas disponíveis, igual a um fluxograma, com o objetivo de descobrir a classificação de uma nova entrada. De forma geral, uma  árvore de decisão é um algoritmo de machine learning largamente utilizado, possui uma estrutura de simples compreensão e que costuma apresentar bons resultados em suas previsões) A FUNÇÃO ASSOCIADA A TREE, DecisionTreeClassifier (Classificador de árvore de decisão : É entendido como o então classificador de uma árvore de decisão, será ele quem irá poder predizer os valores de determinados atributos de um conjunto de dados)\n",
    "\n",
    "from sklearn.neighbors import KNeighborsClassifier\n",
    "\n",
    "from sklearn.svm import SVC, LinearSVC\n",
    "\n",
    "from sklearn.naive_bayes import \\\n",
    "    GaussianNB  # AQUI ESTAMOS IMPORTANDO A FUNÇÃO GAUSSIAN NB PARA PODER CRIAR O NOSSO ENTÃO CLASSIFICADOR, COM BASE NO CONJUNTO DE FUNÇÕES NAIVE BAYE"
   ]
  },
  {
   "cell_type": "code",
   "execution_count": 5,
   "id": "cbb31fb8",
   "metadata": {},
   "outputs": [],
   "source": [
    "# OBTENDO OS DADOS :\n",
    "train_df = pd.read_csv(\n",
    "    'titanic_train.csv')  # AQUI ESTAMOS CRIANDO A VARIAVEL REFERENTE AO CONJUNTO DE TESTES, ASSOCIANDO ELA À BIBLIOTECA PANDAS, TRAZENDO A FUNÇÃO DE LEITURA DE ARQUIVO CSV (CSV : É um arquivo de texto com formato específico para possibilitar o salvamento dos dados em um formado estruturado de tabela), QUE AQUI SERÁ UM ARQUIVO DE TEXTO NOMEADO TEST\n",
    "\n",
    "test_df = pd.read_csv(\n",
    "    'titanic_test.csv')  # AQUI ESTAMOS  CRIANDO A VARIAVEL REFERENTE AO CONJUNTO DE TREINO, ASSOCIANDO ELA À BIBLIOTECA PANDAS, TRAZENDO A FUNÇÃO DE LEITURA DE ARQUIVO CSV"
   ]
  },
  {
   "cell_type": "code",
   "execution_count": 8,
   "id": "c8461c0a",
   "metadata": {},
   "outputs": [
    {
     "name": "stdout",
     "output_type": "stream",
     "text": [
      "<class 'pandas.core.frame.DataFrame'>\n",
      "RangeIndex: 850 entries, 0 to 849\n",
      "Data columns (total 15 columns):\n",
      " #   Column        Non-Null Count  Dtype  \n",
      "---  ------        --------------  -----  \n",
      " 0   passenger_id  850 non-null    int64  \n",
      " 1   pclass        850 non-null    int64  \n",
      " 2   name          850 non-null    object \n",
      " 3   sex           850 non-null    object \n",
      " 4   age           676 non-null    float64\n",
      " 5   sibsp         850 non-null    int64  \n",
      " 6   parch         850 non-null    int64  \n",
      " 7   ticket        850 non-null    object \n",
      " 8   fare          849 non-null    float64\n",
      " 9   cabin         191 non-null    object \n",
      " 10  embarked      849 non-null    object \n",
      " 11  boat          308 non-null    object \n",
      " 12  body          73 non-null     float64\n",
      " 13  home.dest     464 non-null    object \n",
      " 14  survived      850 non-null    int64  \n",
      "dtypes: float64(3), int64(5), object(7)\n",
      "memory usage: 99.7+ KB\n"
     ]
    }
   ],
   "source": [
    "# REALIZANDO A EXPLORAÇÃO / ANÁLISE DOS DADOS :\n",
    "\n",
    "train_df.info()  # AQUI NÓS ESTAMOS TRAZENDO A FUNÇÃO REFERENTE ÀS INFORMAÇÕES CONTIDAS NO CONJUNTO DE TREINAMENTO"
   ]
  },
  {
   "cell_type": "code",
   "execution_count": 9,
   "id": "23d72585",
   "metadata": {},
   "outputs": [
    {
     "data": {
      "text/html": [
       "<div>\n",
       "<style scoped>\n",
       "    .dataframe tbody tr th:only-of-type {\n",
       "        vertical-align: middle;\n",
       "    }\n",
       "\n",
       "    .dataframe tbody tr th {\n",
       "        vertical-align: top;\n",
       "    }\n",
       "\n",
       "    .dataframe thead th {\n",
       "        text-align: right;\n",
       "    }\n",
       "</style>\n",
       "<table border=\"1\" class=\"dataframe\">\n",
       "  <thead>\n",
       "    <tr style=\"text-align: right;\">\n",
       "      <th></th>\n",
       "      <th>passenger_id</th>\n",
       "      <th>pclass</th>\n",
       "      <th>age</th>\n",
       "      <th>sibsp</th>\n",
       "      <th>parch</th>\n",
       "      <th>fare</th>\n",
       "      <th>body</th>\n",
       "      <th>survived</th>\n",
       "    </tr>\n",
       "  </thead>\n",
       "  <tbody>\n",
       "    <tr>\n",
       "      <th>count</th>\n",
       "      <td>850.000000</td>\n",
       "      <td>850.00000</td>\n",
       "      <td>676.000000</td>\n",
       "      <td>850.000000</td>\n",
       "      <td>850.000000</td>\n",
       "      <td>849.000000</td>\n",
       "      <td>73.000000</td>\n",
       "      <td>850.000000</td>\n",
       "    </tr>\n",
       "    <tr>\n",
       "      <th>mean</th>\n",
       "      <td>662.816471</td>\n",
       "      <td>2.32000</td>\n",
       "      <td>29.519847</td>\n",
       "      <td>0.522353</td>\n",
       "      <td>0.382353</td>\n",
       "      <td>34.012701</td>\n",
       "      <td>165.821918</td>\n",
       "      <td>0.368235</td>\n",
       "    </tr>\n",
       "    <tr>\n",
       "      <th>std</th>\n",
       "      <td>380.751936</td>\n",
       "      <td>0.83853</td>\n",
       "      <td>14.562243</td>\n",
       "      <td>1.112132</td>\n",
       "      <td>0.879511</td>\n",
       "      <td>53.705779</td>\n",
       "      <td>99.068487</td>\n",
       "      <td>0.482610</td>\n",
       "    </tr>\n",
       "    <tr>\n",
       "      <th>min</th>\n",
       "      <td>1.000000</td>\n",
       "      <td>1.00000</td>\n",
       "      <td>0.166700</td>\n",
       "      <td>0.000000</td>\n",
       "      <td>0.000000</td>\n",
       "      <td>0.000000</td>\n",
       "      <td>4.000000</td>\n",
       "      <td>0.000000</td>\n",
       "    </tr>\n",
       "    <tr>\n",
       "      <th>25%</th>\n",
       "      <td>332.250000</td>\n",
       "      <td>2.00000</td>\n",
       "      <td>20.000000</td>\n",
       "      <td>0.000000</td>\n",
       "      <td>0.000000</td>\n",
       "      <td>7.895800</td>\n",
       "      <td>75.000000</td>\n",
       "      <td>0.000000</td>\n",
       "    </tr>\n",
       "    <tr>\n",
       "      <th>50%</th>\n",
       "      <td>676.500000</td>\n",
       "      <td>3.00000</td>\n",
       "      <td>28.000000</td>\n",
       "      <td>0.000000</td>\n",
       "      <td>0.000000</td>\n",
       "      <td>14.108300</td>\n",
       "      <td>166.000000</td>\n",
       "      <td>0.000000</td>\n",
       "    </tr>\n",
       "    <tr>\n",
       "      <th>75%</th>\n",
       "      <td>992.250000</td>\n",
       "      <td>3.00000</td>\n",
       "      <td>37.000000</td>\n",
       "      <td>1.000000</td>\n",
       "      <td>0.000000</td>\n",
       "      <td>31.000000</td>\n",
       "      <td>260.000000</td>\n",
       "      <td>1.000000</td>\n",
       "    </tr>\n",
       "    <tr>\n",
       "      <th>max</th>\n",
       "      <td>1307.000000</td>\n",
       "      <td>3.00000</td>\n",
       "      <td>80.000000</td>\n",
       "      <td>8.000000</td>\n",
       "      <td>9.000000</td>\n",
       "      <td>512.329200</td>\n",
       "      <td>328.000000</td>\n",
       "      <td>1.000000</td>\n",
       "    </tr>\n",
       "  </tbody>\n",
       "</table>\n",
       "</div>"
      ],
      "text/plain": [
       "       passenger_id     pclass         age       sibsp       parch  \\\n",
       "count    850.000000  850.00000  676.000000  850.000000  850.000000   \n",
       "mean     662.816471    2.32000   29.519847    0.522353    0.382353   \n",
       "std      380.751936    0.83853   14.562243    1.112132    0.879511   \n",
       "min        1.000000    1.00000    0.166700    0.000000    0.000000   \n",
       "25%      332.250000    2.00000   20.000000    0.000000    0.000000   \n",
       "50%      676.500000    3.00000   28.000000    0.000000    0.000000   \n",
       "75%      992.250000    3.00000   37.000000    1.000000    0.000000   \n",
       "max     1307.000000    3.00000   80.000000    8.000000    9.000000   \n",
       "\n",
       "             fare        body    survived  \n",
       "count  849.000000   73.000000  850.000000  \n",
       "mean    34.012701  165.821918    0.368235  \n",
       "std     53.705779   99.068487    0.482610  \n",
       "min      0.000000    4.000000    0.000000  \n",
       "25%      7.895800   75.000000    0.000000  \n",
       "50%     14.108300  166.000000    0.000000  \n",
       "75%     31.000000  260.000000    1.000000  \n",
       "max    512.329200  328.000000    1.000000  "
      ]
     },
     "execution_count": 9,
     "metadata": {},
     "output_type": "execute_result"
    }
   ],
   "source": [
    "# REALIZANDO A EXPLORAÇÃO / ANÁLISE DOS DADOS :\n",
    "\n",
    "train_df.describe()     # AQUI NÓS ESTAMOS TRAZENDO A FUNÇÃO REFERENTE À DESCRIÇÃO DOS DADOS CONTIDOS NO CONJUNTO DE TREINAMENTO"
   ]
  },
  {
   "cell_type": "code",
   "execution_count": 10,
   "id": "30be9732",
   "metadata": {},
   "outputs": [],
   "source": [
    "# Com isso, será possível observar que 38% do conjunto de treinamento sobreviveu ao Titanic. Também é possível observar que a as idades dos passageiros variam de 0,4 a 80. Além disso, já podemos detectar alguns recursos que contêm valores ausentes, como o recurso \"Age\"."
   ]
  },
  {
   "cell_type": "code",
   "execution_count": 3,
   "id": "758941e0",
   "metadata": {},
   "outputs": [
    {
     "ename": "NameError",
     "evalue": "name 'train_df' is not defined",
     "output_type": "error",
     "traceback": [
      "\u001b[1;31m---------------------------------------------------------------------------\u001b[0m",
      "\u001b[1;31mNameError\u001b[0m                                 Traceback (most recent call last)",
      "\u001b[1;32m<ipython-input-3-f2ead705000c>\u001b[0m in \u001b[0;36m<module>\u001b[1;34m\u001b[0m\n\u001b[1;32m----> 1\u001b[1;33m \u001b[0mtrain_df\u001b[0m\u001b[1;33m.\u001b[0m\u001b[0mhead\u001b[0m\u001b[1;33m(\u001b[0m\u001b[1;36m30\u001b[0m\u001b[1;33m)\u001b[0m\u001b[1;33m\u001b[0m\u001b[1;33m\u001b[0m\u001b[0m\n\u001b[0m",
      "\u001b[1;31mNameError\u001b[0m: name 'train_df' is not defined"
     ]
    }
   ],
   "source": [
    "train_df.head(30)"
   ]
  },
  {
   "cell_type": "code",
   "execution_count": 14,
   "id": "5d99e616",
   "metadata": {},
   "outputs": [
    {
     "data": {
      "text/html": [
       "<div>\n",
       "<style scoped>\n",
       "    .dataframe tbody tr th:only-of-type {\n",
       "        vertical-align: middle;\n",
       "    }\n",
       "\n",
       "    .dataframe tbody tr th {\n",
       "        vertical-align: top;\n",
       "    }\n",
       "\n",
       "    .dataframe thead th {\n",
       "        text-align: right;\n",
       "    }\n",
       "</style>\n",
       "<table border=\"1\" class=\"dataframe\">\n",
       "  <thead>\n",
       "    <tr style=\"text-align: right;\">\n",
       "      <th></th>\n",
       "      <th>Total</th>\n",
       "      <th>%</th>\n",
       "    </tr>\n",
       "  </thead>\n",
       "  <tbody>\n",
       "    <tr>\n",
       "      <th>body</th>\n",
       "      <td>777</td>\n",
       "      <td>91.4</td>\n",
       "    </tr>\n",
       "    <tr>\n",
       "      <th>cabin</th>\n",
       "      <td>659</td>\n",
       "      <td>77.5</td>\n",
       "    </tr>\n",
       "    <tr>\n",
       "      <th>boat</th>\n",
       "      <td>542</td>\n",
       "      <td>63.8</td>\n",
       "    </tr>\n",
       "    <tr>\n",
       "      <th>home.dest</th>\n",
       "      <td>386</td>\n",
       "      <td>45.4</td>\n",
       "    </tr>\n",
       "    <tr>\n",
       "      <th>age</th>\n",
       "      <td>174</td>\n",
       "      <td>20.5</td>\n",
       "    </tr>\n",
       "  </tbody>\n",
       "</table>\n",
       "</div>"
      ],
      "text/plain": [
       "           Total     %\n",
       "body         777  91.4\n",
       "cabin        659  77.5\n",
       "boat         542  63.8\n",
       "home.dest    386  45.4\n",
       "age          174  20.5"
      ]
     },
     "execution_count": 14,
     "metadata": {},
     "output_type": "execute_result"
    }
   ],
   "source": [
    "total = train_df.isnull().sum().sort_values(ascending=False)\n",
    "percent_1 = train_df.isnull().sum()/train_df.isnull().count()*100\n",
    "percent_2 = (round(percent_1, 1)).sort_values(ascending=False)\n",
    "missing_data = pd.concat([total, percent_2], axis=1, keys=['Total', '%'])\n",
    "missing_data.head(5)\n"
   ]
  },
  {
   "cell_type": "code",
   "execution_count": 16,
   "id": "211a5063",
   "metadata": {},
   "outputs": [
    {
     "data": {
      "text/plain": [
       "array(['passenger_id', 'pclass', 'name', 'sex', 'age', 'sibsp', 'parch',\n",
       "       'ticket', 'fare', 'cabin', 'embarked', 'boat', 'body', 'home.dest',\n",
       "       'survived'], dtype=object)"
      ]
     },
     "execution_count": 16,
     "metadata": {},
     "output_type": "execute_result"
    }
   ],
   "source": [
    "train_df.columns.values"
   ]
  },
  {
   "cell_type": "code",
   "execution_count": null,
   "id": "459d0d39",
   "metadata": {},
   "outputs": [],
   "source": []
  },
  {
   "cell_type": "code",
   "execution_count": null,
   "id": "5cb73b33",
   "metadata": {},
   "outputs": [],
   "source": []
  }
 ],
 "metadata": {
  "kernelspec": {
   "display_name": "Python 3",
   "language": "python",
   "name": "python3"
  },
  "language_info": {
   "codemirror_mode": {
    "name": "ipython",
    "version": 3
   },
   "file_extension": ".py",
   "mimetype": "text/x-python",
   "name": "python",
   "nbconvert_exporter": "python",
   "pygments_lexer": "ipython3",
   "version": "3.6.8"
  }
 },
 "nbformat": 4,
 "nbformat_minor": 5
}
